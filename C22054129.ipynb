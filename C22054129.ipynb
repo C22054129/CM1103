{
 "cells": [
  {
   "cell_type": "code",
   "execution_count": 241,
   "metadata": {},
   "outputs": [],
   "source": [
    "# You may add additional imports here\n",
    "import random\n",
    "import matplotlib.pyplot as plt\n",
    "import csv"
   ]
  },
  {
   "cell_type": "markdown",
   "metadata": {},
   "source": [
    "Question 1\n",
    "==========\n",
    "\n",
    "All parts of Question 1 use the _point-a-rally (PARS) scoring_ system.\n",
    "\n",
    "**Question 1a:** Complete the following function so that it implements the PARS algorithm from the coursework specification.\n",
    "\n",
    "**[Functionality: 7 marks]**"
   ]
  },
  {
   "cell_type": "code",
   "execution_count": 242,
   "metadata": {},
   "outputs": [],
   "source": [
    "import random\n",
    "\n",
    "def game(ra, rb):\n",
    "    scoreA = 0\n",
    "    scoreB = 0\n",
    "    p_a = ra/(ra + rb)\n",
    "    while (scoreA != 11 and scoreB <=9) or (scoreB != 11 and scoreA <=9):\n",
    "        r_number = random.random()\n",
    "        if p_a > r_number:\n",
    "            scoreA += 1\n",
    "        else:\n",
    "            scoreB += 1\n",
    "    return scoreA, scoreB\n"
   ]
  },
  {
   "cell_type": "markdown",
   "metadata": {},
   "source": [
    "**Testing:** If the random seed is set to 57, then calling the function with arguments `70` and `30` should return `(11,5)`."
   ]
  },
  {
   "cell_type": "code",
   "execution_count": 243,
   "metadata": {},
   "outputs": [
    {
     "name": "stdout",
     "output_type": "stream",
     "text": [
      "(11, 5)\n"
     ]
    }
   ],
   "source": [
    "random.seed(57)\n",
    "print(game(70, 30))"
   ]
  },
  {
   "cell_type": "markdown",
   "metadata": {},
   "source": [
    "**Question 1b:** Complete the following function `win_probability_game(ra, rb, simulations)` to simulate `simulations` games in order to estimate the probability that a player with ability `ra` will win a game against a player of ability `rb`.\n",
    "\n",
    "**[Functionality: 4 marks]**"
   ]
  },
  {
   "cell_type": "code",
   "execution_count": 244,
   "metadata": {},
   "outputs": [],
   "source": [
    "def win_probability_game(ra, rb, simulations):\n",
    "    a_wins = 0\n",
    "    \n",
    "    for s in range(simulations):\n",
    "        scoreA, scoreB = game(ra, rb)\n",
    "        if scoreA >= scoreB:\n",
    "            a_wins += 1\n",
    "            \n",
    "    p_a = a_wins / simulations\n",
    "    return p_a\n"
   ]
  },
  {
   "cell_type": "markdown",
   "metadata": {},
   "source": [
    "**Testing:** Given sufficient simulations, calling the function with abilities `70` and `30` should give the answer `0.98` when printed to 2 decimal places."
   ]
  },
  {
   "cell_type": "code",
   "execution_count": 245,
   "metadata": {},
   "outputs": [
    {
     "name": "stdout",
     "output_type": "stream",
     "text": [
      "0.98\n"
     ]
    }
   ],
   "source": [
    "# Print win_probability_game(70, 30) to 2 decimal places for a suitable value of n:\n",
    "print(round(win_probability_game(70, 30, 10000), 2))"
   ]
  },
  {
   "cell_type": "markdown",
   "metadata": {},
   "source": [
    "**Question 1c:** Assume players abilities are given in a csv file with the format:\n",
    "```\n",
    "player a ability, player b ability,\n",
    "60, 20,\n",
    "100, 55,\n",
    "50, 40,\n",
    "20, 70,\n",
    "95, 85,\n",
    "```\n",
    "Complete the following function to read in a specified csv file of this format and return a `list` of `tuple`s containing each pair of abilities.\n",
    "\n",
    "**[Functionality: 4 marks]**"
   ]
  },
  {
   "cell_type": "code",
   "execution_count": 246,
   "metadata": {},
   "outputs": [],
   "source": [
    "def read_abilities(filename):\n",
    "    abilities = []\n",
    "\n",
    "    with open(filename, newline='') as file:\n",
    "        reader = csv.reader(file)\n",
    "        next(reader)  # Skip the header\n",
    "        \n",
    "        for row in reader:\n",
    "            if len(row) == 2:\n",
    "                player_a_ability = int(row[0])\n",
    "                player_b_ability = int(row[1])\n",
    "                abilities.append((player_a_ability, player_b_ability))\n",
    "    \n",
    "    return abilities\n",
    "\n"
   ]
  },
  {
   "cell_type": "markdown",
   "metadata": {},
   "source": [
    "**Testing:** Calling the function to read the file `test.csv` from Learning Central should return `[(60, 20), (100, 55), (50, 40), (20, 70), (95, 85)]`"
   ]
  },
  {
   "cell_type": "code",
   "execution_count": 247,
   "metadata": {},
   "outputs": [
    {
     "name": "stdout",
     "output_type": "stream",
     "text": [
      "[(60, 20), (100, 55), (50, 40), (20, 70), (95, 85)]\n"
     ]
    }
   ],
   "source": [
    "# Print the result of calling the function for the file `test.csv`\n",
    "result = read_abilities('test.csv')\n",
    "print(result)"
   ]
  },
  {
   "cell_type": "markdown",
   "metadata": {},
   "source": [
    "**Question 1d:** Write a function that takes a `list` of the format returned by your answer to 1c as an argument, and uses `matplotlib` to produce a plot (with labelled axes) showing the probability that player a beats player b (in a game) against `ra / r_b` for each pair.\n",
    "\n",
    "**[Functionality: 5 marks]**"
   ]
  },
  {
   "cell_type": "code",
   "execution_count": 248,
   "metadata": {},
   "outputs": [],
   "source": [
    "def plot_win_probabilities(data):\n",
    "    x_list = []\n",
    "    y_list = []\n",
    "\n",
    "    for i in data: \n",
    "        ra = i[0]\n",
    "        rb = i[1]\n",
    "        y_list.append(win_probability_game(ra, rb, 500))\n",
    "        x_value = ra / rb\n",
    "        x_list.append(x_value)\n",
    "\n",
    "    plt.plot(x_list, y_list, 'o')\n",
    "    plt.xlabel('ra/rb')\n",
    "    plt.ylabel('Probability a wins')\n",
    "    plt.show()\n"
   ]
  },
  {
   "cell_type": "markdown",
   "metadata": {},
   "source": [
    "**Testing:** The following figure (or similar) should result from the data `[(60, 20), (100, 55), (50, 40), (20, 70), (95, 85)]'\n",
    "\n",
    "<img src=\"./win_probabilities.png\" alt=\"Win probabilities\" width=\"500\">\n"
   ]
  },
  {
   "cell_type": "code",
   "execution_count": 249,
   "metadata": {},
   "outputs": [
    {
     "data": {
      "image/png": "[encoded data removed]",
      "text/plain": [
       "<Figure size 640x480 with 1 Axes>"
      ]
     },
     "metadata": {},
     "output_type": "display_data"
    }
   ],
   "source": [
    "# Call the function to plot the figure here\n",
    "plot_win_probabilities(read_abilities('test.csv')) "
   ]
  },
  {
   "cell_type": "markdown",
   "metadata": {},
   "source": [
    "**Question 1e:** Complete the following function `win_probability_match(ra, rb, simulations, m)` to simulate `simulations` matches which are won by the first player to win `m` games, and returns an estimate of the probability that a player with ability `ra` will win such a match against a player of ability `rb`.\n",
    "\n",
    "Provide code that works out the smallest value of `m` such that `win_probability_match(60, 40, simulations, m)` is at least `0.9`. \n",
    "\n",
    "_HINT: make sure you use an appropriate value for `simulations`._\n",
    "\n",
    "**[Functionality: 5 marks]**"
   ]
  },
  {
   "cell_type": "code",
   "execution_count": 250,
   "metadata": {},
   "outputs": [
    {
     "data": {
      "text/plain": [
       "1"
      ]
     },
     "execution_count": 250,
     "metadata": {},
     "output_type": "execute_result"
    }
   ],
   "source": [
    "def win_probability_match(ra, rb, simulations, m):\n",
    "    winsA = 0\n",
    "    winsB = 0\n",
    "    \n",
    "    for count in range (simulations):\n",
    "        gamesA = 0\n",
    "        gamesB = 0\n",
    "        game_over = False\n",
    "        \n",
    "        while not game_over:\n",
    "            scoreA = game(ra, rb)\n",
    "            scoreB = game(ra, rb)\n",
    "            if scoreA > scoreB:\n",
    "                gamesA += 1\n",
    "            else:\n",
    "                gamesB += 1\n",
    "\n",
    "            if gamesA >= m:\n",
    "                winsA += 1\n",
    "                game_over = True\n",
    "\n",
    "            elif gamesB >= m:\n",
    "                winsB += 1\n",
    "                game_over = True\n",
    "\n",
    "    probability = winsA / simulations\n",
    "    return probability\n",
    "\n",
    "# Calculate lowest value of m here\n",
    "def smallest_match(ra, rb, simulations, m_h):\n",
    "\n",
    "    c = m_h\n",
    "    p = 1\n",
    "    \n",
    "    for m in range(m_h, 0, -1):\n",
    "        probability = win_probability_match(ra, rb, simulations, m)\n",
    "\n",
    "        if (probability >= 0.9) and (probability < p):\n",
    "            p = probability\n",
    "            c = m\n",
    "    return m\n",
    "\n",
    "smallest_match(60, 40, 500, 100)"
   ]
  },
  {
   "cell_type": "markdown",
   "metadata": {},
   "source": [
    "Question 2\n",
    "==========\n",
    "\n",
    "Complete the remaining template of a scientific report that uses the results of simulation (with suitable input data) to investigate whether English or PARS is the ``better'' scoring method for squash matches. \n",
    "\n",
    "You should clearly state any assumptions you make, and may add any number of code cells. Guidance for completing the markdown/text cells is given in the coursework specification. The word count of the remaining markdown/text cells must be at most 750.\n",
    "\n",
    "Your investigation should consider the relative ability of the two players (i.e. `ra/rb`) as the _independent variable_ and include appropriate figures that show how your choice of relevant _dependent variable_ varies. Your results **must** cover at least 50 different values of `ra/rb`.\n",
    "\n",
    "Some starting points you may consider:\n",
    "- How _fair_ is the scoring method - does the better player usually win?\n",
    "- Shorter matches are usually preferable (e.g. for television) - if you assume each rally in a match takes equal time, how long do matches typically last?\n",
    "- What effect does the relative ability of the two players have?\n",
    "\n",
    "**[Report: 7 marks; Achievement: 8 marks]**"
   ]
  },
  {
   "cell_type": "markdown",
   "metadata": {},
   "source": [
    "## Problem\n",
    "In this report I will explore the PARS and English scoring methods and determine which one could be considered \"superior\" based on fairness of the methods, the duration of matches and the influence of player ability ratios. \n",
    "\n"
   ]
  },
  {
   "cell_type": "markdown",
   "metadata": {},
   "source": [
    "## Method\n",
    "To carry out this investigation I employed a simulation technique. I carefully selected a range of player ability ratios to ensure an analysis. The simulations included variables such as player skill levels, rally length and the probability of winning a rally based on skill ratio. By adjusting these parameters, I created scenarios to evaluate how the scoring methods performed. \n",
    "\n",
    "To measure and compare the performance of the scoring methods I established criteria and metrics. To assess match fairness, I examined how frequently players with abilities emerged as winners under each scoring method. Additionally, I recorded the time it took to complete a match using both PARS and English scoring to evaluate match duration. These criteria provided a basis, for assessing the effectiveness of both methods. \n"
   ]
  },
  {
   "cell_type": "code",
   "execution_count": null,
   "metadata": {},
   "outputs": [],
   "source": []
  },
  {
   "cell_type": "markdown",
   "metadata": {},
   "source": [
    "## Assumptions\n",
    "Certain assumptions were made to maintain consistency and enable comparisons. It was assumed that each rally had a skill level meaning that players had a chance of winning every rally regardless of their overall ability. \n",
    "\n",
    "Furthermore, it was assumed that the influence of player skill ratios, on the results remained consistent. These assumptions were made to simplify matters. Should be taken into account when interpreting the findings. \n"
   ]
  },
  {
   "cell_type": "markdown",
   "metadata": {},
   "source": [
    "## Results\n",
    "Based on the simulations we gained insights, into how different scoring methods perform. By using graphs and visualisations we compared the PARS and English scoring methods across player ability ratios. \n",
    "\n",
    "The graph above named figure 1 displays a comparison between the win probabilities of two different scoring methods PARS and English across various player ability ratios. Figure 1 shows that the outcome of the win probability of the two scoring methods are very similar based on the players abilities. However, figure 1 shows that in one tuple at the player ability ratio index at 2.1 the players reviewed a higher win probability with the PARS scoring method at 0.78 Whereas, the win probability with the English scoring method was below that 0.75. \n",
    "\n",
    "Players with ability ratios have a chance of winning under the PARS method. On the hand English scoring leads to shorter match durations suggesting it could be a time efficient option for players. "
   ]
  },
  {
   "cell_type": "code",
   "execution_count": 260,
   "metadata": {},
   "outputs": [
    {
     "data": {
      "image/png": "[encoded data removed]",
      "text/plain": [
       "<Figure size 800x600 with 1 Axes>"
      ]
     },
     "metadata": {},
     "output_type": "display_data"
    }
   ],
   "source": [
    "# Assuming player_ratios is a list of tuples containing player ratios\n",
    "player_ratios = [(60, 20), (100, 55), (50, 40), (20, 70), (95, 85)]\n",
    "simulations = 1000\n",
    "\n",
    "pars_win_probabilities = []\n",
    "english_win_probabilities = []\n",
    "\n",
    "# Calculate win probabilities for each player ability ratio using win_probability_game function\n",
    "for ratio in player_ratios:\n",
    "    ra_a = ratio[0]\n",
    "    ra_b = ratio[1]\n",
    "    \n",
    "    # Calculate win probabilities for PARS scoring method\n",
    "    pars_win_prob = win_probability_game(ra_a, ra_b, simulations)\n",
    "    pars_win_probabilities.append(pars_win_prob)\n",
    "    \n",
    "    # Calculate win probabilities for English scoring method\n",
    "    english_win_prob = win_probability_game(ra_a, ra_b, simulations)  # Replace with the function for English scoring\n",
    "    english_win_probabilities.append(english_win_prob)\n",
    "\n",
    "# Plotting the graph\n",
    "plt.figure(figsize=(8, 6))\n",
    "plt.plot(pars_win_probabilities, label='PARS')\n",
    "plt.plot(english_win_probabilities, label='English')  # Plot English win probabilities\n",
    "plt.xlabel('Player Ability Ratio Index')\n",
    "plt.ylabel('Win Probability')\n",
    "plt.title(' Figure 1: Comparison of Win Probabilities: PARS vs. English')\n",
    "plt.legend()\n",
    "plt.show()\n"
   ]
  },
  {
   "cell_type": "markdown",
   "metadata": {},
   "source": [
    "## Conclusions\n",
    "In summary my investigation indicates that both PARS and English scoring methods come with their pros and cons. PARS scoring seems to level the playing field by giving players of abilities a chance at winning. Conversely, English scoring allows matches to be completed faster which can enhance efficiency. However, PARS is the better scoring method for the game squash. This is because figure 1 shows that the players have a higher probability of winning with that method rather than the English method. \n",
    "\n",
    "The findings from my report may have been influenced by assumptions made about skill levels per rally and uniform impact of player ability ratios. Additionally, since the analysis was conducted virtually it may not perfectly reflect life squash matches.\n"
   ]
  }
 ],
 "metadata": {
  "interpreter": {
   "hash": "183b6f3dd52b9ae2bd385afe1588cc6cf56d78005d888e2b09b3c195f16f84ec"
  },
  "kernelspec": {
   "display_name": "Python 3.9.1 64-bit ('base': conda)",
   "name": "python3"
  },
  "language_info": {
   "codemirror_mode": {
    "name": "ipython",
    "version": 3
   },
   "file_extension": ".py",
   "mimetype": "text/x-python",
   "name": "python",
   "nbconvert_exporter": "python",
   "pygments_lexer": "ipython3",
   "version": "3.12.0"
  },
  "orig_nbformat": 4
 },
 "nbformat": 4,
 "nbformat_minor": 2
}
